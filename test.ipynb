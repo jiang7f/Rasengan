{
 "cells": [
  {
   "cell_type": "code",
   "execution_count": 1,
   "metadata": {},
   "outputs": [
    {
     "name": "stdout",
     "output_type": "stream",
     "text": [
      "B 中有 A 没有的元素: {4, 5}\n"
     ]
    }
   ],
   "source": [
    "A = {1, 2, 3}\n",
    "B = {3, 4, 5}\n",
    "\n",
    "# 计算 B 中有而 A 中没有的元素\n",
    "new_elements_in_B = B - A\n",
    "\n",
    "# 判断是否有新元素\n",
    "if new_elements_in_B:\n",
    "    print(f\"B 中有 A 没有的元素: {new_elements_in_B}\")  # 输出 {4, 5}\n",
    "else:\n",
    "    print(\"B 中没有 A 没有的元素\")\n"
   ]
  },
  {
   "cell_type": "code",
   "execution_count": 2,
   "metadata": {},
   "outputs": [
    {
     "data": {
      "text/plain": [
       "[0, 2, 4]"
      ]
     },
     "execution_count": 2,
     "metadata": {},
     "output_type": "execute_result"
    }
   ],
   "source": [
    "[i for i in range(5) if i % 2 == 0]"
   ]
  },
  {
   "cell_type": "code",
   "execution_count": 3,
   "metadata": {},
   "outputs": [
    {
     "data": {
      "text/plain": [
       "[[2, 3, 1, 4, 0], [0, 4, 3, 1]]"
      ]
     },
     "execution_count": 3,
     "metadata": {},
     "output_type": "execute_result"
    }
   ],
   "source": [
    "import random\n",
    "def generate_random_scp_data(s, c, min_coverage=1, max_coverage=None):\n",
    "    if max_coverage is None:\n",
    "        max_coverage = c  # 每个集合最多覆盖 c 个点\n",
    "    \n",
    "    # 初始化结果列表\n",
    "    scp_data = [[] for _ in range(s)]\n",
    "    \n",
    "    # 确保每个点至少被一个集合覆盖\n",
    "    all_points = list(range(c))\n",
    "    random.shuffle(all_points)\n",
    "    \n",
    "    # 将每个点分配给一个随机的集合，确保每个点至少被覆盖一次\n",
    "    for i, point in enumerate(all_points):\n",
    "        scp_data[i % s].append(point)\n",
    "    \n",
    "    # 然后随机增加覆盖关系，确保每个集合的覆盖范围在 min_coverage 到 max_coverage 之间\n",
    "    for subset in scp_data:\n",
    "        # 当前集合已经有的覆盖点数量\n",
    "        current_coverage = len(subset)\n",
    "        # 如果当前覆盖小于 min_coverage，就添加更多点\n",
    "        if current_coverage < min_coverage:\n",
    "            additional_points = random.sample(\n",
    "                [p for p in all_points if p not in subset],\n",
    "                min_coverage - current_coverage\n",
    "            )\n",
    "            subset.extend(additional_points)\n",
    "        \n",
    "        # 如果当前覆盖大于 max_coverage，就减少点\n",
    "        elif current_coverage > max_coverage:\n",
    "            subset = random.sample(subset, max_coverage)\n",
    "        \n",
    "        # 随机增加额外的点覆盖\n",
    "        num_additional_points = random.randint(0, max_coverage - len(subset))\n",
    "        additional_points = random.sample(\n",
    "            [p for p in all_points if p not in subset],\n",
    "            num_additional_points\n",
    "        )\n",
    "        subset.extend(additional_points)\n",
    "\n",
    "    return scp_data\n",
    "\n",
    "generate_random_scp_data(2, 5)"
   ]
  },
  {
   "cell_type": "code",
   "execution_count": null,
   "metadata": {},
   "outputs": [
    {
     "ename": "ModuleNotFoundError",
     "evalue": "No module named 'choco'",
     "output_type": "error",
     "traceback": [
      "\u001b[0;31m---------------------------------------------------------------------------\u001b[0m",
      "\u001b[0;31mModuleNotFoundError\u001b[0m                       Traceback (most recent call last)",
      "Cell \u001b[0;32mIn[4], line 1\u001b[0m\n\u001b[0;32m----> 1\u001b[0m \u001b[38;5;28;01mfrom\u001b[39;00m \u001b[38;5;21;01mchoco\u001b[39;00m\u001b[38;5;21;01m.\u001b[39;00m\u001b[38;5;21;01mmodel\u001b[39;00m\u001b[38;5;21;01m.\u001b[39;00m\u001b[38;5;21;01mlin_constr_bin_opt\u001b[39;00m \u001b[38;5;28;01mimport\u001b[39;00m LinearConstrainedBinaryOptimization\n\u001b[1;32m      2\u001b[0m \u001b[38;5;28;01mif\u001b[39;00m \u001b[38;5;18m__name__\u001b[39m \u001b[38;5;241m==\u001b[39m \u001b[38;5;124m'\u001b[39m\u001b[38;5;124m__main__\u001b[39m\u001b[38;5;124m'\u001b[39m:\n\u001b[1;32m      3\u001b[0m     m \u001b[38;5;241m=\u001b[39m LinearConstrainedBinaryOptimization()\n",
      "\u001b[0;31mModuleNotFoundError\u001b[0m: No module named 'choco'"
     ]
    },
    {
     "ename": "",
     "evalue": "",
     "output_type": "error",
     "traceback": [
      "\u001b[1;31m在当前单元格或上一个单元格中执行代码时 Kernel 崩溃。\n",
      "\u001b[1;31m请查看单元格中的代码，以确定故障的可能原因。\n",
      "\u001b[1;31m单击<a href='https://aka.ms/vscodeJupyterKernelCrash'>此处</a>了解详细信息。\n",
      "\u001b[1;31m有关更多详细信息，请查看 Jupyter <a href='command:jupyter.viewOutput'>log</a>。"
     ]
    }
   ],
   "source": [
    "from choco.model.lin_constr_bin_opt import LinearConstrainedBinaryOptimization\n",
    "if __name__ == '__main__':\n",
    "    m = LinearConstrainedBinaryOptimization()\n",
    "    num_facilities = 1\n",
    "    num_demands = 1\n",
    "    x = m.addVars(num_facilities, name=\"x\")\n",
    "    y = m.addVars(num_demands, num_facilities, name=\"y\")\n",
    "    m.setObjective(sum(3 * y[i, j] for i in range(num_demands) for j in range(num_facilities)) + sum(4 * x[j] for j in range(num_facilities)), 'min')\n",
    "\n",
    "    m.addConstrs((2 * x[j] <= 2 + x[j] for i in range(num_demands) for j in range(num_facilities)))\n",
    "    m.addConstrs((-2 <= -x[j] for i in range(num_demands) for j in range(num_facilities)))\n",
    "    m.addConstrs((x[j] >= -1 for i in range(num_demands) for j in range(num_facilities)))\n",
    "    m.addConstrs((x[j] >= 1 for i in range(num_demands) for j in range(num_facilities)))\n",
    "    m.addConstrs((y[i, j] + x[j] <=  2 for i in range(num_demands) for j in range(num_facilities)))\n",
    "    m.addConstrs((y[i, j] + x[j] + 10 >=  10 for i in range(num_demands) for j in range(num_facilities)))\n",
    "    m.addConstrs((y[i, j] + x[j] + 10 >=  -10 for i in range(num_demands) for j in range(num_facilities)))\n",
    "    m.addConstrs((y[i, j] + x[j] + 10 >=  11 for i in range(num_demands) for j in range(num_facilities)))\n",
    "    m.addConstrs((y[i, j] + x[j] + 10 >=  13 for i in range(num_demands) for j in range(num_facilities)))\n",
    "    m.addConstrs((10 >= 13 - y[i, j] - x[j] for i in range(num_demands) for j in range(num_facilities)))\n",
    "\n",
    "\n",
    "    # m.optimize()\n",
    "    print(m)"
   ]
  },
  {
   "cell_type": "code",
   "execution_count": null,
   "metadata": {},
   "outputs": [
    {
     "name": "stdout",
     "output_type": "stream",
     "text": [
      "Generated capacities: [8, 4, 1, 3, 9]\n",
      "Total capacity: 25\n"
     ]
    }
   ],
   "source": [
    "import random\n",
    "\n",
    "def generate_capacities(num_machines, total_capacity):\n",
    "    # 生成 num_machines - 1 个随机分割点\n",
    "    splits = sorted(random.sample(range(1, total_capacity), num_machines - 1))\n",
    "\n",
    "    # 根据分割点计算每个机器的容量\n",
    "    capacities = [splits[0]] + [splits[i] - splits[i - 1] for i in range(1, len(splits))] + [total_capacity - splits[-1]]\n",
    "\n",
    "    return capacities\n",
    "\n",
    "# 示例使用\n",
    "num_machines = 5\n",
    "total_capacity = 25\n",
    "\n",
    "capacities = generate_capacities(num_machines, total_capacity)\n",
    "print(\"Generated capacities:\", capacities)\n",
    "print(\"Total capacity:\", sum(capacities))\n"
   ]
  }
 ],
 "metadata": {
  "kernelspec": {
   "display_name": "qto",
   "language": "python",
   "name": "python3"
  },
  "language_info": {
   "codemirror_mode": {
    "name": "ipython",
    "version": 3
   },
   "file_extension": ".py",
   "mimetype": "text/x-python",
   "name": "python",
   "nbconvert_exporter": "python",
   "pygments_lexer": "ipython3",
   "version": "3.10.14"
  }
 },
 "nbformat": 4,
 "nbformat_minor": 2
}
